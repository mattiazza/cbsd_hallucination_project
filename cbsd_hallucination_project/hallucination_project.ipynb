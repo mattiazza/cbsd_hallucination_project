{
 "cells": [
  {
   "cell_type": "markdown",
   "metadata": {},
   "source": [
    "# Hallucination Project"
   ]
  },
  {
   "cell_type": "code",
   "execution_count": 1,
   "metadata": {},
   "outputs": [],
   "source": [
    "from load_data import *"
   ]
  },
  {
   "cell_type": "code",
   "execution_count": 2,
   "metadata": {},
   "outputs": [],
   "source": [
    "data_path = Path(\n",
    "    \"/Users/mattiapiazza/Documents/University/cognitive_behavioral_and_social_data/project/cbsd_hallucination_project/ARC_master/data/training\"\n",
    ")\n",
    "\n",
    "training = data_extraction(data_path=data_path)"
   ]
  },
  {
   "cell_type": "code",
   "execution_count": 3,
   "metadata": {},
   "outputs": [
    {
     "data": {
      "text/plain": [
       "1301"
      ]
     },
     "execution_count": 3,
     "metadata": {},
     "output_type": "execute_result"
    }
   ],
   "source": [
    "len(training[\"train\"][\"input\"])"
   ]
  },
  {
   "cell_type": "code",
   "execution_count": 155,
   "metadata": {},
   "outputs": [
    {
     "name": "stdout",
     "output_type": "stream",
     "text": [
      "\n",
      "d[first].items(): \n",
      "dict_items([(1, [])])\n",
      "\n",
      "<class 'list'>\n",
      "\n",
      "d[first].items(): \n",
      "dict_items([(1, [2]), (2, [])])\n",
      "\n",
      "<class 'list'>\n",
      "\n",
      "d[first].items(): \n",
      "dict_items([(1, [2]), (2, [4]), (3, [])])\n",
      "\n",
      "<class 'list'>\n",
      "\n",
      "d[first].items(): \n",
      "dict_items([(1, [2]), (2, [4]), (3, [6]), (4, [])])\n",
      "\n",
      "<class 'list'>\n",
      "\n",
      "d[second].items(): \n",
      "dict_items([(1, [])])\n",
      "\n",
      "<class 'list'>\n",
      "\n",
      "d[second].items(): \n",
      "dict_items([(1, [2]), (2, [])])\n",
      "\n",
      "<class 'list'>\n",
      "\n",
      "d[second].items(): \n",
      "dict_items([(1, [2]), (2, [4]), (3, [])])\n",
      "\n",
      "<class 'list'>\n",
      "\n",
      "d[second].items(): \n",
      "dict_items([(1, [2]), (2, [4]), (3, [6]), (4, [])])\n",
      "\n",
      "<class 'list'>\n",
      "d: \n",
      "{'first': {1: [2], 2: [4], 3: [6], 4: [8]}, 'second': {1: [2], 2: [4], 3: [6], 4: [8]}}\n"
     ]
    }
   ],
   "source": [
    "d = {\"first\": {}, \"second\": {}}\n",
    "\n",
    "for key in d.keys():\n",
    "    for j in range(1, 5):\n",
    "        if j not in d[key].keys():\n",
    "            d[key][j] = []\n",
    "            print(f\"\\nd[{key}].items(): \\n{d[key].items()}\\n\")\n",
    "        print(f\"{type(d[key][j])}\")\n",
    "        d[key][j].append(j * 2)\n",
    "\n",
    "print(f\"d: \\n{d}\")"
   ]
  },
  {
   "cell_type": "code",
   "execution_count": null,
   "metadata": {},
   "outputs": [],
   "source": []
  }
 ],
 "metadata": {
  "kernelspec": {
   "display_name": ".venv",
   "language": "python",
   "name": "python3"
  },
  "language_info": {
   "codemirror_mode": {
    "name": "ipython",
    "version": 3
   },
   "file_extension": ".py",
   "mimetype": "text/x-python",
   "name": "python",
   "nbconvert_exporter": "python",
   "pygments_lexer": "ipython3",
   "version": "3.12.2"
  }
 },
 "nbformat": 4,
 "nbformat_minor": 2
}
