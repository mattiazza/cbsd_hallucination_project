{
 "cells": [
  {
   "cell_type": "markdown",
   "metadata": {},
   "source": [
    "# Hallucination Project"
   ]
  },
  {
   "cell_type": "markdown",
   "metadata": {},
   "source": [
    "#### Imports"
   ]
  },
  {
   "cell_type": "code",
   "execution_count": 1,
   "metadata": {},
   "outputs": [],
   "source": [
    "import numpy as np\n",
    "import pandas as pd\n",
    "from pathlib import Path\n",
    "import json\n",
    "import numpy as np\n",
    "from load_data import *\n",
    "\n",
    "\n",
    "import os\n",
    "import glob"
   ]
  },
  {
   "cell_type": "markdown",
   "metadata": {},
   "source": [
    "### Data extraction"
   ]
  },
  {
   "cell_type": "markdown",
   "metadata": {},
   "source": [
    "We start by extracting the Abstract and Reasoning Corpus (ARC) dataset, composed with 400 `.json` files in the training and another 400 in evaluation folder.\n",
    "\n",
    "`data_extraction` helps us create the dictionary by ghatering the ARC's `.json` files all in one that we are using as dataset. During the process it transform all the numerical matrices in 10 letters, representing the 10 colours of the test."
   ]
  },
  {
   "cell_type": "code",
   "execution_count": 2,
   "metadata": {},
   "outputs": [],
   "source": [
    "ARC_data_path = Path(\"../ARC_master/data\")\n",
    "data_path = Path(\"../data\")\n",
    "\n",
    "llm = \"ChatGPT\"  # Change here if you want to save other LLM response"
   ]
  },
  {
   "cell_type": "markdown",
   "metadata": {},
   "source": [
    "`data_extraction` allows us to also add the responspe given for the LLM taken in exam. We start by giving the LLM some hint on the task as follow:\n",
    "\n",
    ">I'm going to give you a visual puzzle (but you won't have to deal with an image yourself as I went ahead and converted the image to an easier textual format for you!).\n",
    ">\n",
    ">You are basically given a big square that consists of many smaller colored squares (like a digital mosaic if you will) and you need to figure out what are the actual colors of squares that are black (black serves as a placeholder color).\n",
    ">\n",
    ">The best way to do it is to spell out the colors you see in the following format (see below) for the original square and then try and fill in the blank (i.e. black squares).I'll go ahead and spell it out for you.\n",
    ">\n",
    ">(note: P stands for pink, C - cyan, B - blue, G - gray, R - red, Y - yellow, O - orange, V - Green, M -brown, X - black/placeholder that you need to solve for)\n",
    ">\n",
    ">I'll give you some examples before giving you the test, show me just the final result\n",
    "\n",
    "We finally attach the response of the LLM in exam to our dictionary"
   ]
  },
  {
   "cell_type": "code",
   "execution_count": null,
   "metadata": {},
   "outputs": [],
   "source": [
    "training_dataset = data_extraction(\n",
    "    data_path=ARC_data_path / \"training\",\n",
    "    save_path=data_path,\n",
    "    llm=llm,\n",
    "    lim_print=2,\n",
    ")\n",
    "\n",
    "# Saving training_dataset\n",
    "with open(Path(data_path / \"training_dataset.json\"), \"w\") as f:\n",
    "    json.dump(training_dataset, f)"
   ]
  },
  {
   "cell_type": "code",
   "execution_count": null,
   "metadata": {},
   "outputs": [],
   "source": [
    "evaluation_dataset = data_extraction(\n",
    "    data_path=ARC_data_path / \"evaluation\",\n",
    "    save_path=data_path,\n",
    "    llm=llm,\n",
    "    lim_print=2,\n",
    ")\n",
    "\n",
    "# Saving training_dataset\n",
    "with open(Path(data_path / \"evaluation_dataset.json\"), \"w\") as f:\n",
    "    json.dump(evaluation_dataset, f)"
   ]
  },
  {
   "cell_type": "markdown",
   "metadata": {},
   "source": [
    "### Question our LLM\n",
    "Now that we have our prompts it's time to use them to question the LLM chosen"
   ]
  }
 ],
 "metadata": {
  "kernelspec": {
   "display_name": ".venv",
   "language": "python",
   "name": "python3"
  },
  "language_info": {
   "codemirror_mode": {
    "name": "ipython",
    "version": 3
   },
   "file_extension": ".py",
   "mimetype": "text/x-python",
   "name": "python",
   "nbconvert_exporter": "python",
   "pygments_lexer": "ipython3",
   "version": "3.12.2"
  }
 },
 "nbformat": 4,
 "nbformat_minor": 2
}
